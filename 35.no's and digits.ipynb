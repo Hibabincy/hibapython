{
 "cells": [
  {
   "cell_type": "code",
   "execution_count": 2,
   "metadata": {},
   "outputs": [
    {
     "name": "stdout",
     "output_type": "stream",
     "text": [
      "enter the string:jinbin812\n",
      "letters 6\n",
      "digits 3\n"
     ]
    }
   ],
   "source": [
    "#calculate number and digits in a string\n",
    "n=input(\"enter the string:\")\n",
    "a=b=0\n",
    "for d in n:\n",
    "    if d.isdigit():\n",
    "        a=a+1\n",
    "    elif d.isalpha():\n",
    "        b=b+1\n",
    "    else:\n",
    "        pass\n",
    "print(\"letters\",b);\n",
    "print(\"digits\",a);"
   ]
  },
  {
   "cell_type": "code",
   "execution_count": null,
   "metadata": {
    "collapsed": true
   },
   "outputs": [],
   "source": []
  }
 ],
 "metadata": {
  "kernelspec": {
   "display_name": "Python 3",
   "language": "python",
   "name": "python3"
  },
  "language_info": {
   "codemirror_mode": {
    "name": "ipython",
    "version": 3
   },
   "file_extension": ".py",
   "mimetype": "text/x-python",
   "name": "python",
   "nbconvert_exporter": "python",
   "pygments_lexer": "ipython3",
   "version": "3.6.9"
  }
 },
 "nbformat": 4,
 "nbformat_minor": 2
}
