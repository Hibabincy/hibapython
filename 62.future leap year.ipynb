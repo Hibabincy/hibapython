{
 "cells": [
  {
   "cell_type": "code",
   "execution_count": 1,
   "metadata": {},
   "outputs": [
    {
     "name": "stdout",
     "output_type": "stream",
     "text": [
      "enter first year:2000\n",
      "enter second year:2023\n",
      "Leap year between 2000 and 2023 :\n",
      "2000\n",
      "2004\n",
      "2008\n",
      "2012\n",
      "2016\n",
      "2020\n"
     ]
    }
   ],
   "source": [
    "#display future leap years from current year to a final year\n",
    "def leap(l,u):\n",
    "    print(\"Leap year between\",l,\"and\",u,\":\")\n",
    "    for i in range (l,u+1):\n",
    "        if(i%4==0) and (i%100!=0) or(i%400==0):\n",
    "            print(i)\n",
    "a=int(input(\"enter first year:\")) \n",
    "b=int(input(\"enter second year:\"))\n",
    "leap(a,b)"
   ]
  },
  {
   "cell_type": "code",
   "execution_count": null,
   "metadata": {
    "collapsed": true
   },
   "outputs": [],
   "source": []
  }
 ],
 "metadata": {
  "kernelspec": {
   "display_name": "Python 3",
   "language": "python",
   "name": "python3"
  },
  "language_info": {
   "codemirror_mode": {
    "name": "ipython",
    "version": 3
   },
   "file_extension": ".py",
   "mimetype": "text/x-python",
   "name": "python",
   "nbconvert_exporter": "python",
   "pygments_lexer": "ipython3",
   "version": "3.6.9"
  }
 },
 "nbformat": 4,
 "nbformat_minor": 2
}
