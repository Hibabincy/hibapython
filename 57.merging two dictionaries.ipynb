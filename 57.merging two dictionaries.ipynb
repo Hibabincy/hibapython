{
 "cells": [
  {
   "cell_type": "code",
   "execution_count": 2,
   "metadata": {},
   "outputs": [
    {
     "name": "stdout",
     "output_type": "stream",
     "text": [
      "{1: 'apple', 2: 'banana', 3: 'carrot'}\n",
      "{4: 'orange', 5: 'grapes'}\n",
      "Merging two dictionaries: {1: 'apple', 2: 'banana', 3: 'carrot'}\n"
     ]
    }
   ],
   "source": [
    "#Merge two dictionaries.\n",
    "dict1={1:'apple',2:'banana',3:'carrot'}\n",
    "dict2={4:'orange',5:'grapes'}\n",
    "print(dict1)\n",
    "print(dict2)\n",
    "dict3=dict2\n",
    "dict3.update(dict1)\n",
    "print(\"Merging two dictionaries:\",dict3)"
   ]
  },
  {
   "cell_type": "code",
   "execution_count": null,
   "metadata": {
    "collapsed": true
   },
   "outputs": [],
   "source": []
  }
 ],
 "metadata": {
  "kernelspec": {
   "display_name": "Python 3",
   "language": "python",
   "name": "python3"
  },
  "language_info": {
   "codemirror_mode": {
    "name": "ipython",
    "version": 3
   },
   "file_extension": ".py",
   "mimetype": "text/x-python",
   "name": "python",
   "nbconvert_exporter": "python",
   "pygments_lexer": "ipython3",
   "version": "3.6.9"
  }
 },
 "nbformat": 4,
 "nbformat_minor": 2
}
