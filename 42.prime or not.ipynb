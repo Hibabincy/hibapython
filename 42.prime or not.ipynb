{
 "cells": [
  {
   "cell_type": "code",
   "execution_count": 15,
   "metadata": {},
   "outputs": [
    {
     "name": "stdout",
     "output_type": "stream",
     "text": [
      "enter the number:5\n",
      "5 is a prime number\n"
     ]
    }
   ],
   "source": [
    "#prime or not\n",
    "n=int(input(\"enter the number:\"))\n",
    "count=0 \n",
    "for i in range(2,(n//2+1)):\n",
    "    if(n%i==0):\n",
    "        count=count+1\n",
    "        break\n",
    "if (count==0 and n!=1):\n",
    "    print(\"%d is a prime number\"%n)\n",
    "else:\n",
    "    print(\"%d is not a prime number\"%n)"
   ]
  },
  {
   "cell_type": "code",
   "execution_count": null,
   "metadata": {
    "collapsed": true
   },
   "outputs": [],
   "source": []
  },
  {
   "cell_type": "code",
   "execution_count": null,
   "metadata": {
    "collapsed": true
   },
   "outputs": [],
   "source": []
  }
 ],
 "metadata": {
  "kernelspec": {
   "display_name": "Python 3",
   "language": "python",
   "name": "python3"
  },
  "language_info": {
   "codemirror_mode": {
    "name": "ipython",
    "version": 3
   },
   "file_extension": ".py",
   "mimetype": "text/x-python",
   "name": "python",
   "nbconvert_exporter": "python",
   "pygments_lexer": "ipython3",
   "version": "3.6.9"
  }
 },
 "nbformat": 4,
 "nbformat_minor": 2
}
