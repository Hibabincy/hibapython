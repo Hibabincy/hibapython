{
 "cells": [
  {
   "cell_type": "code",
   "execution_count": 4,
   "metadata": {},
   "outputs": [
    {
     "name": "stdout",
     "output_type": "stream",
     "text": [
      "enter the first integer name:700\n",
      "enter the second integer name:7\n",
      "707 is their sum\n"
     ]
    }
   ],
   "source": [
    "a=int(input(\"enter the first integer name:\"))\n",
    "b=int(input(\"enter the second integer name:\"))\n",
    "product=a*b\n",
    "sum=a+b\n",
    "if(product>1000):\n",
    "    print(\"%d is their sum\"%sum)\n",
    "else:\n",
    "    print(\"%d is the product\"%product)"
   ]
  },
  {
   "cell_type": "code",
   "execution_count": null,
   "metadata": {
    "collapsed": true
   },
   "outputs": [],
   "source": []
  }
 ],
 "metadata": {
  "kernelspec": {
   "display_name": "Python 3",
   "language": "python",
   "name": "python3"
  },
  "language_info": {
   "codemirror_mode": {
    "name": "ipython",
    "version": 3
   },
   "file_extension": ".py",
   "mimetype": "text/x-python",
   "name": "python",
   "nbconvert_exporter": "python",
   "pygments_lexer": "ipython3",
   "version": "3.6.9"
  }
 },
 "nbformat": 4,
 "nbformat_minor": 2
}
