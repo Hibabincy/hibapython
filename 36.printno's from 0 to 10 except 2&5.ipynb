{
 "cells": [
  {
   "cell_type": "code",
   "execution_count": 14,
   "metadata": {},
   "outputs": [
    {
     "name": "stdout",
     "output_type": "stream",
     "text": [
      "0 \n",
      "\n",
      "1 \n",
      "\n",
      "3 \n",
      "\n",
      "4 \n",
      "\n",
      "6 \n",
      "\n",
      "7 \n",
      "\n",
      "8 \n",
      "\n",
      "9 \n",
      "\n",
      "10 \n",
      "\n"
     ]
    }
   ],
   "source": [
    "#print no's from 0 to 10 except 2 & 5\n",
    "for i in range (0,11):\n",
    "    if(i==2 or i==5):\n",
    "        continue\n",
    "    print(i,end=' ')\n",
    "    print(\"\\n\")"
   ]
  },
  {
   "cell_type": "code",
   "execution_count": null,
   "metadata": {
    "collapsed": true
   },
   "outputs": [],
   "source": []
  }
 ],
 "metadata": {
  "kernelspec": {
   "display_name": "Python 3",
   "language": "python",
   "name": "python3"
  },
  "language_info": {
   "codemirror_mode": {
    "name": "ipython",
    "version": 3
   },
   "file_extension": ".py",
   "mimetype": "text/x-python",
   "name": "python",
   "nbconvert_exporter": "python",
   "pygments_lexer": "ipython3",
   "version": "3.6.9"
  }
 },
 "nbformat": 4,
 "nbformat_minor": 2
}
