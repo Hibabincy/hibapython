{
 "cells": [
  {
   "cell_type": "code",
   "execution_count": 1,
   "metadata": {},
   "outputs": [
    {
     "name": "stdout",
     "output_type": "stream",
     "text": [
      "enter the 1st number:20\n",
      "enter the 2nd number:56\n",
      "select the operation to perform:\n",
      "1.addition\n",
      "2.substraction\n",
      "3.multiplication\n",
      "4.division\n",
      "enter the choice:1\n",
      "addition:76.00\n"
     ]
    }
   ],
   "source": [
    "num1=float(input(\"enter the 1st number:\"))\n",
    "num2=float(input(\"enter the 2nd number:\"))\n",
    "print(\"select the operation to perform:\")\n",
    "print(\"1.addition\")\n",
    "print(\"2.substraction\")\n",
    "print(\"3.multiplication\")\n",
    "print(\"4.division\")\n",
    "choice=int(input(\"enter the choice:\"))\n",
    "if(choice==1):\n",
    " print(\"addition:%.2f\"%(num1+num2))\n",
    "elif(choice==2):\n",
    " print(\"substract:%.2f\"%(num1-num2))\n",
    "elif(choice==3):\n",
    " print(\"multiplication:%.2f\"%(num1*num2)) \n",
    "elif(choice==4):\n",
    " print(\"division:%.2f\"%(num1/num2)) \n",
    "else:\n",
    " print(\"Invalid!\")"
   ]
  },
  {
   "cell_type": "code",
   "execution_count": null,
   "metadata": {
    "collapsed": true
   },
   "outputs": [],
   "source": []
  }
 ],
 "metadata": {
  "kernelspec": {
   "display_name": "Python 3",
   "language": "python",
   "name": "python3"
  },
  "language_info": {
   "codemirror_mode": {
    "name": "ipython",
    "version": 3
   },
   "file_extension": ".py",
   "mimetype": "text/x-python",
   "name": "python",
   "nbconvert_exporter": "python",
   "pygments_lexer": "ipython3",
   "version": "3.6.9"
  }
 },
 "nbformat": 4,
 "nbformat_minor": 2
}
