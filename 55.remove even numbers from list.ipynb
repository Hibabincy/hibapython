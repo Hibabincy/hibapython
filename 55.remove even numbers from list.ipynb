{
 "cells": [
  {
   "cell_type": "code",
   "execution_count": 3,
   "metadata": {},
   "outputs": [
    {
     "name": "stdout",
     "output_type": "stream",
     "text": [
      "List Items =  [7, 22, 33, 36, 56, 61, 72, 77, 79]\n",
      "List after removing even Numbers =  [7, 33, 56, 61, 77, 79]\n"
     ]
    }
   ],
   "source": [
    "#Remove even numbers from list\n",
    "List = [7, 22,33, 36, 56, 61, 72,77,79]\n",
    "print(\"List Items = \", List)\n",
    " \n",
    "for even in List:\n",
    "    if (even % 2 == 0):\n",
    "        List.remove(even)\n",
    "   \n",
    "print(\"List after removing even Numbers = \", List)\n",
    " \n"
   ]
  },
  {
   "cell_type": "code",
   "execution_count": null,
   "metadata": {
    "collapsed": true
   },
   "outputs": [],
   "source": []
  }
 ],
 "metadata": {
  "kernelspec": {
   "display_name": "Python 3",
   "language": "python",
   "name": "python3"
  },
  "language_info": {
   "codemirror_mode": {
    "name": "ipython",
    "version": 3
   },
   "file_extension": ".py",
   "mimetype": "text/x-python",
   "name": "python",
   "nbconvert_exporter": "python",
   "pygments_lexer": "ipython3",
   "version": "3.6.9"
  }
 },
 "nbformat": 4,
 "nbformat_minor": 2
}
