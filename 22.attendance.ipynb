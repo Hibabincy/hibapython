{
 "cells": [
  {
   "cell_type": "code",
   "execution_count": 3,
   "metadata": {},
   "outputs": [
    {
     "name": "stdout",
     "output_type": "stream",
     "text": [
      "number of classes held=50\n",
      "number of classes attended=45\n",
      "90 is the percentage of attendance\n",
      "%d is the percentage of attendance so the student can attent examination\n"
     ]
    }
   ],
   "source": [
    "a=float(input(\"number of classes held=\"))\n",
    "b=float(input(\"number of classes attended=\"))\n",
    "p=(b/a)*100\n",
    "print(\"%d is the percentage of attendance\"%p)\n",
    "if(p>75):\n",
    " print(\"%d is the percentage of attendance so the student can attent examination\")\n",
    "else: \n",
    " print(\"%d is the percentage of attendance so the student can't attend the examination\") \n",
    "              "
   ]
  },
  {
   "cell_type": "code",
   "execution_count": null,
   "metadata": {
    "collapsed": true
   },
   "outputs": [],
   "source": []
  }
 ],
 "metadata": {
  "kernelspec": {
   "display_name": "Python 3",
   "language": "python",
   "name": "python3"
  },
  "language_info": {
   "codemirror_mode": {
    "name": "ipython",
    "version": 3
   },
   "file_extension": ".py",
   "mimetype": "text/x-python",
   "name": "python",
   "nbconvert_exporter": "python",
   "pygments_lexer": "ipython3",
   "version": "3.6.9"
  }
 },
 "nbformat": 4,
 "nbformat_minor": 2
}
