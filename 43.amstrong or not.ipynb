{
 "cells": [
  {
   "cell_type": "code",
   "execution_count": 6,
   "metadata": {},
   "outputs": [
    {
     "name": "stdout",
     "output_type": "stream",
     "text": [
      "Enter a number:153\n",
      "amstrong number\n"
     ]
    }
   ],
   "source": [
    "#amstrong or not\n",
    "a=input(\"Enter a number:\")\n",
    "result=0\n",
    "for i in range(len(a)):\n",
    "    b=int(a[i])\n",
    "    result=result+(b**int(len(a)))\n",
    "if result==int(a):\n",
    "    print(\"amstrong number\")\n",
    "elif result!=int(a):\n",
    "    print(\"not an amstrong number\")"
   ]
  },
  {
   "cell_type": "code",
   "execution_count": null,
   "metadata": {
    "collapsed": true
   },
   "outputs": [],
   "source": []
  }
 ],
 "metadata": {
  "kernelspec": {
   "display_name": "Python 3",
   "language": "python",
   "name": "python3"
  },
  "language_info": {
   "codemirror_mode": {
    "name": "ipython",
    "version": 3
   },
   "file_extension": ".py",
   "mimetype": "text/x-python",
   "name": "python",
   "nbconvert_exporter": "python",
   "pygments_lexer": "ipython3",
   "version": "3.6.9"
  }
 },
 "nbformat": 4,
 "nbformat_minor": 2
}
