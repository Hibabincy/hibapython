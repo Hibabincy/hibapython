{
 "cells": [
  {
   "cell_type": "code",
   "execution_count": 2,
   "metadata": {},
   "outputs": [
    {
     "name": "stdout",
     "output_type": "stream",
     "text": [
      "names= ['hiba', 'hisham', 'hashim', 'lubin', 'fadeen', 'ayan', 'azin']\n",
      "occurence of a in ['hiba', 'hisham', 'hashim', 'lubin', 'fadeen', 'ayan', 'azin']  is: 7\n"
     ]
    }
   ],
   "source": [
    "#52.Store a list of first names.Count the occurrences of ‘a’ within the list.\n",
    "names=['hiba','hisham','hashim','lubin','fadeen','ayan','azin']\n",
    "print(\"names=\",names)\n",
    "count=0\n",
    "for name in names:\n",
    "    count+=name.count('a')\n",
    "print(\"occurence of a in\",names,\" is:\",count)"
   ]
  },
  {
   "cell_type": "code",
   "execution_count": null,
   "metadata": {
    "collapsed": true
   },
   "outputs": [],
   "source": []
  }
 ],
 "metadata": {
  "kernelspec": {
   "display_name": "Python 3",
   "language": "python",
   "name": "python3"
  },
  "language_info": {
   "codemirror_mode": {
    "name": "ipython",
    "version": 3
   },
   "file_extension": ".py",
   "mimetype": "text/x-python",
   "name": "python",
   "nbconvert_exporter": "python",
   "pygments_lexer": "ipython3",
   "version": "3.6.9"
  }
 },
 "nbformat": 4,
 "nbformat_minor": 2
}
