{
 "cells": [
  {
   "cell_type": "code",
   "execution_count": 2,
   "metadata": {},
   "outputs": [
    {
     "name": "stdout",
     "output_type": "stream",
     "text": [
      "enter the length of rectancle7\n",
      "enter the breadth of the rectangle:7\n",
      "it is a square\n"
     ]
    }
   ],
   "source": [
    "a=float(input(\"enter the length of rectancle\"))\n",
    "b=float(input(\"enter the breadth of the rectangle:\"))\n",
    "if(a==b):\n",
    "    print(\"it is a square\")\n",
    "else:\n",
    "    print(\"it is a rectagle\")"
   ]
  },
  {
   "cell_type": "code",
   "execution_count": null,
   "metadata": {
    "collapsed": true
   },
   "outputs": [],
   "source": []
  }
 ],
 "metadata": {
  "kernelspec": {
   "display_name": "Python 3",
   "language": "python",
   "name": "python3"
  },
  "language_info": {
   "codemirror_mode": {
    "name": "ipython",
    "version": 3
   },
   "file_extension": ".py",
   "mimetype": "text/x-python",
   "name": "python",
   "nbconvert_exporter": "python",
   "pygments_lexer": "ipython3",
   "version": "3.6.9"
  }
 },
 "nbformat": 4,
 "nbformat_minor": 2
}
