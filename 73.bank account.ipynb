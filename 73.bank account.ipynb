{
 "cells": [
  {
   "cell_type": "code",
   "execution_count": 1,
   "metadata": {},
   "outputs": [
    {
     "name": "stdout",
     "output_type": "stream",
     "text": [
      "Enter name: hiba\n",
      "Enter account number: 1234\n",
      "Enter account type: savings\n",
      "Enter initial balance: 200\n",
      "1. Deposit 2. Withdraw 3. Account info 4.Exit\n",
      " Choose your option:1\n",
      "Deposit amount: 200\n",
      "Initial balance:  200\n",
      "200 is deposited\n",
      "current balance:  400\n",
      "1. Deposit 2. Withdraw 3. Account info 4.Exit\n",
      " Choose your option:2\n",
      "Withdraw amount: 500\n",
      "Initial balance:  400\n",
      "You don't have enough balance to withdraw !!\n",
      "Current balance:  400\n",
      "1. Deposit 2. Withdraw 3. Account info 4.Exit\n",
      " Choose your option:3\n",
      "Account holder Name:  hiba\n",
      "Account Number:  1234\n",
      "Account Type:  savings\n",
      "Account Balance:  400\n",
      "1. Deposit 2. Withdraw 3. Account info 4.Exit\n",
      " Choose your option:4\n",
      "Exiting...\n"
     ]
    }
   ],
   "source": [
    "#create bank ac with members accnt no,name,type and balance .deposit and withdwr an amnt from bank\n",
    "class bankaccount:\n",
    "    def __init__(self,a_name, a_no,a_type,a_balance):\n",
    "        self.acc_name=a_name\n",
    "        self.acc_no=a_no\n",
    "        self.acc_type=a_type\n",
    "        self.acc_balance=a_balance\n",
    " \n",
    "    def deposit(self,a_deposit):\n",
    "        print(\"Initial balance: \",self.acc_balance)\n",
    "        self.acc_balance+=a_deposit\n",
    "        print(a_deposit, \"is deposited\")\n",
    "        print(\"current balance: \",self.acc_balance)\n",
    " \n",
    "    def withdraw(self):\n",
    "        self.amount=int(input(\"Withdraw amount: \"))\n",
    "        print(\"Initial balance: \",self.acc_balance)\n",
    "        if self.amount > self.acc_balance:\n",
    "            print(\"You don't have enough balance to withdraw !!\")\n",
    "            print(\"Current balance: \",self.acc_balance)\n",
    "        else:\n",
    "            print(self.amount,\" is withdrawed\")\n",
    "            self.acc_balance-=self.amount\n",
    "            print(\"Current balance: \",self.acc_balance)\n",
    " \n",
    "    def acc_info(self):\n",
    "        print(\"Account holder Name: \", self.acc_name)\n",
    "        print(\"Account Number: \", self.acc_no)\n",
    "        print(\"Account Type: \", self.acc_type)\n",
    "        print(\"Account Balance: \", self.acc_balance)\n",
    " \n",
    "name=input(\"Enter name: \")\n",
    "no=int(input(\"Enter account number: \"))\n",
    "type=input(\"Enter account type: \")\n",
    "bal=int(input(\"Enter initial balance: \"))\n",
    "holder=bankaccount(name,no,type,bal)\n",
    "while(True):\n",
    "    ch=int(input(\"1. Deposit 2. Withdraw 3. Account info 4.Exit\\n Choose your option:\"))\n",
    "    if ch==1:\n",
    "        amount=int(input(\"Deposit amount: \"))\n",
    "        holder.deposit(amount)\n",
    "    elif ch==2:\n",
    "        holder.withdraw()\n",
    "    elif ch==3:\n",
    "        holder.acc_info()\n",
    "    else:\n",
    "        print(\"Exiting...\")\n",
    "        break"
   ]
  },
  {
   "cell_type": "code",
   "execution_count": null,
   "metadata": {
    "collapsed": true
   },
   "outputs": [],
   "source": []
  }
 ],
 "metadata": {
  "kernelspec": {
   "display_name": "Python 3",
   "language": "python",
   "name": "python3"
  },
  "language_info": {
   "codemirror_mode": {
    "name": "ipython",
    "version": 3
   },
   "file_extension": ".py",
   "mimetype": "text/x-python",
   "name": "python",
   "nbconvert_exporter": "python",
   "pygments_lexer": "ipython3",
   "version": "3.6.9"
  }
 },
 "nbformat": 4,
 "nbformat_minor": 2
}
