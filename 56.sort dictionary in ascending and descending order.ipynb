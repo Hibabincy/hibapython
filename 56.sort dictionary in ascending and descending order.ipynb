{
 "cells": [
  {
   "cell_type": "code",
   "execution_count": 3,
   "metadata": {},
   "outputs": [
    {
     "name": "stdout",
     "output_type": "stream",
     "text": [
      "Dictionary= {'hiba': 1, 'twinkle': 5, 'binky': 3, 'binu': 4}\n",
      "Dictionary in ascending order: {'binky': 3, 'binu': 4, 'hiba': 1, 'twinkle': 5}\n",
      "Dictionary in descending order: {'twinkle': 5, 'hiba': 1, 'binu': 4, 'binky': 3}\n"
     ]
    }
   ],
   "source": [
    "#sorting in ascending and descending\n",
    "\n",
    "dic={'hiba':1,'twinkle':5,'binky':3,'binu':4}\n",
    "print(\"Dictionary=\",dic)\n",
    "items=list(dic.items())\n",
    "items.sort()\n",
    "dic=dict(items)\n",
    "print(\"Dictionary in ascending order:\",dic)\n",
    "items=list(dic.items())\n",
    "items.reverse()\n",
    "dic=dict(items)\n",
    "print(\"Dictionary in descending order:\",dic)\n"
   ]
  },
  {
   "cell_type": "code",
   "execution_count": null,
   "metadata": {
    "collapsed": true
   },
   "outputs": [],
   "source": []
  }
 ],
 "metadata": {
  "kernelspec": {
   "display_name": "Python 3",
   "language": "python",
   "name": "python3"
  },
  "language_info": {
   "codemirror_mode": {
    "name": "ipython",
    "version": 3
   },
   "file_extension": ".py",
   "mimetype": "text/x-python",
   "name": "python",
   "nbconvert_exporter": "python",
   "pygments_lexer": "ipython3",
   "version": "3.6.9"
  }
 },
 "nbformat": 4,
 "nbformat_minor": 2
}
