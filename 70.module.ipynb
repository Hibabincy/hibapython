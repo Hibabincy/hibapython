{
 "cells": [
  {
   "cell_type": "code",
   "execution_count": 2,
   "metadata": {},
   "outputs": [
    {
     "name": "stdout",
     "output_type": "stream",
     "text": [
      "1.Rectangle\n",
      "2.Circle\n",
      "3.Exit\n",
      "enter your choice:1\n",
      "enter length4\n",
      "enter breadth2\n",
      "Area of rectangle: 8\n",
      "perimeter of rectangle: 12\n",
      "1.Rectangle\n",
      "2.Circle\n",
      "3.Exit\n",
      "enter your choice:2\n",
      "enter radius4\n",
      "Area of circle: 50.24\n",
      "perimeter of circle: 25.12\n",
      "1.Rectangle\n",
      "2.Circle\n",
      "3.Exit\n",
      "enter your choice:3\n",
      "exiting...\n"
     ]
    }
   ],
   "source": [
    "import rectangle\n",
    "import circle\n",
    "while(1):\n",
    "    print(\"1.Rectangle\\n2.Circle\\n3.Exit\")\n",
    "    ch=int(input(\"enter your choice:\"))\n",
    "    if ch==1:\n",
    "        l=int(input(\"enter length\"))\n",
    "        b=int(input(\"enter breadth\"))\n",
    "        rectangle.rectarea(l,b)\n",
    "        rectangle.rectperi(l,b)\n",
    "    if ch==2:\n",
    "        r=int(input(\"enter radius\"))\n",
    "        circle.circlearea(r)\n",
    "        circle.circleperi(r)\n",
    "    if ch==3:\n",
    "        print(\"exiting...\")\n",
    "        break"
   ]
  },
  {
   "cell_type": "code",
   "execution_count": null,
   "metadata": {
    "collapsed": true
   },
   "outputs": [],
   "source": []
  }
 ],
 "metadata": {
  "kernelspec": {
   "display_name": "Python 3",
   "language": "python",
   "name": "python3"
  },
  "language_info": {
   "codemirror_mode": {
    "name": "ipython",
    "version": 3
   },
   "file_extension": ".py",
   "mimetype": "text/x-python",
   "name": "python",
   "nbconvert_exporter": "python",
   "pygments_lexer": "ipython3",
   "version": "3.6.9"
  }
 },
 "nbformat": 4,
 "nbformat_minor": 2
}
