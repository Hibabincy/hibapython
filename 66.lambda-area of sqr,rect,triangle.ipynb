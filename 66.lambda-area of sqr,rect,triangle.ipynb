{
 "cells": [
  {
   "cell_type": "code",
   "execution_count": 5,
   "metadata": {},
   "outputs": [
    {
     "name": "stdout",
     "output_type": "stream",
     "text": [
      "1.square\n",
      "2.rectangle\n",
      "3.triangle\n",
      "4.exit\n",
      "enter your choice:1\n",
      "enter the side:7\n",
      "area of the square is  49\n",
      "1.square\n",
      "2.rectangle\n",
      "3.triangle\n",
      "4.exit\n",
      "enter your choice:2\n",
      "enter the length:7\n",
      "enter the breadth:6\n",
      "area pof the rectangle is  42\n",
      "1.square\n",
      "2.rectangle\n",
      "3.triangle\n",
      "4.exit\n",
      "enter your choice:3\n",
      "enter the base:7\n",
      "enter the height:8\n",
      "area of the triangle is  28.0\n",
      "1.square\n",
      "2.rectangle\n",
      "3.triangle\n",
      "4.exit\n",
      "enter your choice:4\n",
      "exiting...\n"
     ]
    }
   ],
   "source": [
    "#lambda functions to find area of square,rectangle and triangle\n",
    "sqr=lambda a:a*a\n",
    "rect=lambda l,b:l*b\n",
    "tri= lambda b,h:(b*h)/2\n",
    "while(1):\n",
    "    print(\"1.square\\n2.rectangle\\n3.triangle\\n4.exit\")\n",
    "    ch=int(input(\"enter your choice:\"))\n",
    "    if(ch==1):\n",
    "        a=int(input(\"enter the side:\"))\n",
    "        print(\"area of the square is \",sqr(a))\n",
    "    elif(ch==2):\n",
    "        l=int(input(\"enter the length:\"))\n",
    "        b=int(input(\"enter the breadth:\"))\n",
    "        print(\"area pof the rectangle is \",rect(l,b))\n",
    "    elif(ch==3):\n",
    "        b=int(input(\"enter the base:\"))\n",
    "        h=int(input(\"enter the height:\"))\n",
    "        print(\"area of the triangle is \",tri(b,h))\n",
    "    else:\n",
    "        print(\"exiting...\")\n",
    "        break"
   ]
  },
  {
   "cell_type": "code",
   "execution_count": null,
   "metadata": {
    "collapsed": true
   },
   "outputs": [],
   "source": []
  },
  {
   "cell_type": "code",
   "execution_count": null,
   "metadata": {
    "collapsed": true
   },
   "outputs": [],
   "source": []
  },
  {
   "cell_type": "code",
   "execution_count": null,
   "metadata": {
    "collapsed": true
   },
   "outputs": [],
   "source": []
  }
 ],
 "metadata": {
  "kernelspec": {
   "display_name": "Python 3",
   "language": "python",
   "name": "python3"
  },
  "language_info": {
   "codemirror_mode": {
    "name": "ipython",
    "version": 3
   },
   "file_extension": ".py",
   "mimetype": "text/x-python",
   "name": "python",
   "nbconvert_exporter": "python",
   "pygments_lexer": "ipython3",
   "version": "3.6.9"
  }
 },
 "nbformat": 4,
 "nbformat_minor": 2
}
