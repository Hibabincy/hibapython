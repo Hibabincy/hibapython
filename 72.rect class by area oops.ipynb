{
 "cells": [
  {
   "cell_type": "code",
   "execution_count": 1,
   "metadata": {},
   "outputs": [
    {
     "name": "stdout",
     "output_type": "stream",
     "text": [
      "Enter length of Rectangle1: 2\n",
      "Enter breadth of Rectangle1:5\n",
      "Enter length of Rectangle2:6\n",
      "Enter breadth of Rectangle2:8\n",
      "Area of rectangle 1: 10\n",
      "perimeter on rectangle 1: 14\n",
      "Area of rectangle 2: 48\n",
      "perimeter on rectangle 2: 28\n",
      "Rectagle 2 is greater\n"
     ]
    }
   ],
   "source": [
    "#create rect class with length and breadth and methods to find area and perimtr.cmpre by area\n",
    "class rectangle():\n",
    "    def get(self,l,b):\n",
    "        self.l=l\n",
    "        self.b=b\n",
    "    def area(self,l,b):\n",
    "        return l*b\n",
    "    def perimeter(self,l,b):\n",
    "        return 2*(l+b)\n",
    "r1=rectangle()\n",
    "r2=rectangle()\n",
    "l1=int(input(\"Enter length of Rectangle1: \"))\n",
    "b1=int(input(\"Enter breadth of Rectangle1:\"))\n",
    "l2=int(input(\"Enter length of Rectangle2:\"))\n",
    "b2=int(input(\"Enter breadth of Rectangle2:\"))\n",
    "print(\"Area of rectangle 1:\",l1*b1)\n",
    "print(\"perimeter on rectangle 1:\",2*(l1+b1))\n",
    "print(\"Area of rectangle 2:\",l2*b2)\n",
    "print(\"perimeter on rectangle 2:\",2*(l2+b2))\n",
    "p=r1.area(l1,b1)\n",
    "q=r2.area(l2,b2)\n",
    "if(p>q):\n",
    "    print(\"Rectangle 1 is greater\")\n",
    "elif(p<q):\n",
    "    print(\"Rectagle 2 is greater\")\n",
    "else:\n",
    "    print(\"Rectangles are equal\")"
   ]
  },
  {
   "cell_type": "code",
   "execution_count": null,
   "metadata": {
    "collapsed": true
   },
   "outputs": [],
   "source": []
  }
 ],
 "metadata": {
  "kernelspec": {
   "display_name": "Python 3",
   "language": "python",
   "name": "python3"
  },
  "language_info": {
   "codemirror_mode": {
    "name": "ipython",
    "version": 3
   },
   "file_extension": ".py",
   "mimetype": "text/x-python",
   "name": "python",
   "nbconvert_exporter": "python",
   "pygments_lexer": "ipython3",
   "version": "3.6.9"
  }
 },
 "nbformat": 4,
 "nbformat_minor": 2
}
