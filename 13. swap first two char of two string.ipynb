{
 "cells": [
  {
   "cell_type": "code",
   "execution_count": 5,
   "metadata": {},
   "outputs": [
    {
     "name": "stdout",
     "output_type": "stream",
     "text": [
      "enter the first string:hello\n",
      "enter the second string:binky\n",
      "new string is billo henky\n"
     ]
    }
   ],
   "source": [
    "s1=input(\"enter the first string:\")\n",
    "s2=input(\"enter the second string:\")\n",
    "m=s2[0:2]+s1[2: ]+\" \"+s1[0:2]+s2[2: ]\n",
    "print(\"new string is\",m)"
   ]
  },
  {
   "cell_type": "code",
   "execution_count": null,
   "metadata": {
    "collapsed": true
   },
   "outputs": [],
   "source": []
  }
 ],
 "metadata": {
  "kernelspec": {
   "display_name": "Python 3",
   "language": "python",
   "name": "python3"
  },
  "language_info": {
   "codemirror_mode": {
    "name": "ipython",
    "version": 3
   },
   "file_extension": ".py",
   "mimetype": "text/x-python",
   "name": "python",
   "nbconvert_exporter": "python",
   "pygments_lexer": "ipython3",
   "version": "3.6.9"
  }
 },
 "nbformat": 4,
 "nbformat_minor": 2
}
