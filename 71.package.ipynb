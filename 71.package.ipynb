{
 "cells": [
  {
   "cell_type": "code",
   "execution_count": 14,
   "metadata": {},
   "outputs": [
    {
     "name": "stdout",
     "output_type": "stream",
     "text": [
      "1.Rectangle\n",
      "2.Circle\n",
      "3.cuboid\n",
      "4.sphere\n",
      "5.Exit\n",
      "enter your choice:1\n",
      "enter length:5\n",
      "enter breadth:3\n",
      "Area of rectangle: 15\n",
      "perimeter of rectangle: 16\n",
      "1.Rectangle\n",
      "2.Circle\n",
      "3.cuboid\n",
      "4.sphere\n",
      "5.Exit\n",
      "enter your choice:2\n",
      "enter radius:6\n",
      "Area of circle: 113.03999999999999\n",
      "perimeter of circle: 37.68\n",
      "1.Rectangle\n",
      "2.Circle\n",
      "3.cuboid\n",
      "4.sphere\n",
      "5.Exit\n",
      "enter your choice:3\n",
      "enter length:5\n",
      "enter breadth:3\n",
      "enter height:4\n",
      "Area of cuboid: 94\n",
      "perimeter of cuboid: 48\n",
      "1.Rectangle\n",
      "2.Circle\n",
      "3.cuboid\n",
      "4.sphere\n",
      "5.Exit\n",
      "enter your choice:4\n",
      "enter radius:3\n",
      "Area of sphere: 56.519999999999996\n",
      "perimeter of sphere: 37.68\n",
      "1.Rectangle\n",
      "2.Circle\n",
      "3.cuboid\n",
      "4.sphere\n",
      "5.Exit\n",
      "enter your choice:5\n",
      "exiting...\n"
     ]
    }
   ],
   "source": [
    "from Graphics import rectangle \n",
    "from Graphics import circle\n",
    "from Graphics.Graphics3d import cbd\n",
    "from Graphics.Graphics3d import sphere\n",
    "\n",
    "while(1):\n",
    "    \n",
    "    print(\"1.Rectangle\\n2.Circle\\n3.cuboid\\n4.sphere\\n5.Exit\")\n",
    "    ch=int(input(\"enter your choice:\"))\n",
    "    if ch==1:\n",
    "        l=int(input(\"enter length:\"))\n",
    "        b=int(input(\"enter breadth:\"))\n",
    "        rectangle.rectarea(l,b)\n",
    "        rectangle.rectperi(l,b)\n",
    "    elif ch==2:\n",
    "        r=int(input(\"enter radius:\"))\n",
    "        circle.circlearea(r)\n",
    "        circle.circleperi(r)\n",
    "    elif ch==3:\n",
    "        l=int(input(\"enter length:\"))\n",
    "        b=int(input(\"enter breadth:\"))\n",
    "        h=int(input(\"enter height:\"))\n",
    "        cbd.cuboidarea(l,b,h)\n",
    "        cbd.cuboidperi(l,b,h)\n",
    "    elif ch==4:\n",
    "        r=int(input(\"enter radius:\"))\n",
    "        sphere.spherearea(r)\n",
    "        sphere.sphereperi(r)\n",
    "    else:\n",
    "        print(\"exiting...\")\n",
    "        break\n",
    "    "
   ]
  },
  {
   "cell_type": "code",
   "execution_count": null,
   "metadata": {
    "collapsed": true
   },
   "outputs": [],
   "source": []
  },
  {
   "cell_type": "code",
   "execution_count": null,
   "metadata": {
    "collapsed": true
   },
   "outputs": [],
   "source": []
  }
 ],
 "metadata": {
  "kernelspec": {
   "display_name": "Python 3",
   "language": "python",
   "name": "python3"
  },
  "language_info": {
   "codemirror_mode": {
    "name": "ipython",
    "version": 3
   },
   "file_extension": ".py",
   "mimetype": "text/x-python",
   "name": "python",
   "nbconvert_exporter": "python",
   "pygments_lexer": "ipython3",
   "version": "3.6.9"
  }
 },
 "nbformat": 4,
 "nbformat_minor": 2
}
