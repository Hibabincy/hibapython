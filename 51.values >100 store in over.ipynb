{
 "cells": [
  {
   "cell_type": "code",
   "execution_count": 5,
   "metadata": {},
   "outputs": [
    {
     "name": "stdout",
     "output_type": "stream",
     "text": [
      "enter an integer(enter 'done' to stop):11\n",
      "enter an integer(enter 'done' to stop):22\n",
      "enter an integer(enter 'done' to stop):33\n",
      "enter an integer(enter 'done' to stop):44\n",
      "enter an integer(enter 'done' to stop):55\n",
      "enter an integer(enter 'done' to stop):66\n",
      "enter an integer(enter 'done' to stop):77\n",
      "enter an integer(enter 'done' to stop):171\n",
      "enter an integer(enter 'done' to stop):272\n",
      "enter an integer(enter 'done' to stop):73\n",
      "enter an integer(enter 'done' to stop):737\n",
      "enter an integer(enter 'done' to stop):done\n",
      "[11, 22, 33, 44, 55, 66, 77, 'over', 'over', 73, 'over']\n"
     ]
    }
   ],
   "source": [
    "#values >100 store in over\n",
    "values=[]\n",
    "while True:\n",
    "    value= input(\"enter an integer(enter 'done' to stop):\")\n",
    "    if value=='done':\n",
    "        break\n",
    "    elif int(value)>100:\n",
    "        values.append('over')\n",
    "    else:\n",
    "            values.append(int(value))\n",
    "print(values)"
   ]
  },
  {
   "cell_type": "code",
   "execution_count": null,
   "metadata": {
    "collapsed": true
   },
   "outputs": [],
   "source": []
  }
 ],
 "metadata": {
  "kernelspec": {
   "display_name": "Python 3",
   "language": "python",
   "name": "python3"
  },
  "language_info": {
   "codemirror_mode": {
    "name": "ipython",
    "version": 3
   },
   "file_extension": ".py",
   "mimetype": "text/x-python",
   "name": "python",
   "nbconvert_exporter": "python",
   "pygments_lexer": "ipython3",
   "version": "3.6.9"
  }
 },
 "nbformat": 4,
 "nbformat_minor": 2
}
