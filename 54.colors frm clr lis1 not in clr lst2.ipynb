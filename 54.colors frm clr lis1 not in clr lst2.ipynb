{
 "cells": [
  {
   "cell_type": "code",
   "execution_count": 8,
   "metadata": {},
   "outputs": [
    {
     "name": "stdout",
     "output_type": "stream",
     "text": [
      "colors from color list1 not contained in color list2:\n",
      "{'orange', 'violet', 'indico'}\n"
     ]
    }
   ],
   "source": [
    "#Print out all colors from color list1 not contained in color list2\n",
    "colrlist1 = set([\"orange\", \"violet\", \"indico\"])\n",
    "colrlist2 = set([\"olive\", \"brown\"])\n",
    "print(\"colors from color list1 not contained in color list2:\")\n",
    "print(colrlist1.difference(colrlist2))\n"
   ]
  },
  {
   "cell_type": "code",
   "execution_count": null,
   "metadata": {
    "collapsed": true
   },
   "outputs": [],
   "source": []
  }
 ],
 "metadata": {
  "kernelspec": {
   "display_name": "Python 3",
   "language": "python",
   "name": "python3"
  },
  "language_info": {
   "codemirror_mode": {
    "name": "ipython",
    "version": 3
   },
   "file_extension": ".py",
   "mimetype": "text/x-python",
   "name": "python",
   "nbconvert_exporter": "python",
   "pygments_lexer": "ipython3",
   "version": "3.6.9"
  }
 },
 "nbformat": 4,
 "nbformat_minor": 2
}
