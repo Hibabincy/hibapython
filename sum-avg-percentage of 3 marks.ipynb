{
 "cells": [
  {
   "cell_type": "code",
   "execution_count": 4,
   "metadata": {},
   "outputs": [
    {
     "name": "stdout",
     "output_type": "stream",
     "text": [
      "enter mark1:90\n",
      "enter mark2:98\n",
      "enter mark3:96\n",
      "sum=284\n",
      "average=94\n",
      "percentage=94\n"
     ]
    }
   ],
   "source": [
    "a=int(input(\"enter mark1:\"))\n",
    "b=int(input(\"enter mark2:\"))\n",
    "c=int(input(\"enter mark3:\"))\n",
    "sum=a+b+c\n",
    "avg=(a+b+c)/3\n",
    "prctge=((a+b+c)/300)*100\n",
    "print(\"sum=%d\"%sum)\n",
    "print(\"average=%d\"%avg)\n",
    "print(\"percentage=%d\"%prctge)"
   ]
  },
  {
   "cell_type": "code",
   "execution_count": null,
   "metadata": {
    "collapsed": true
   },
   "outputs": [],
   "source": []
  }
 ],
 "metadata": {
  "kernelspec": {
   "display_name": "Python 3",
   "language": "python",
   "name": "python3"
  },
  "language_info": {
   "codemirror_mode": {
    "name": "ipython",
    "version": 3
   },
   "file_extension": ".py",
   "mimetype": "text/x-python",
   "name": "python",
   "nbconvert_exporter": "python",
   "pygments_lexer": "ipython3",
   "version": "3.6.9"
  }
 },
 "nbformat": 4,
 "nbformat_minor": 2
}
