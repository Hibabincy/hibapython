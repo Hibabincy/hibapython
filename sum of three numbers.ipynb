{
 "cells": [
  {
   "cell_type": "code",
   "execution_count": 1,
   "metadata": {},
   "outputs": [
    {
     "name": "stdout",
     "output_type": "stream",
     "text": [
      "enter the first no:6\n",
      "enter the second no:7\n",
      "enter the third no:8\n",
      "sum= 21\n"
     ]
    }
   ],
   "source": [
    "a= int(input(\"enter the first no:\"))\n",
    "b= int(input(\"enter the second no:\"))\n",
    "c= int(input(\"enter the third no:\"))\n",
    "d= a+b+c\n",
    "print (\"sum=\",d)"
   ]
  },
  {
   "cell_type": "code",
   "execution_count": null,
   "metadata": {
    "collapsed": true
   },
   "outputs": [],
   "source": []
  }
 ],
 "metadata": {
  "kernelspec": {
   "display_name": "Python 3",
   "language": "python",
   "name": "python3"
  },
  "language_info": {
   "codemirror_mode": {
    "name": "ipython",
    "version": 3
   },
   "file_extension": ".py",
   "mimetype": "text/x-python",
   "name": "python",
   "nbconvert_exporter": "python",
   "pygments_lexer": "ipython3",
   "version": "3.6.9"
  }
 },
 "nbformat": 4,
 "nbformat_minor": 2
}
